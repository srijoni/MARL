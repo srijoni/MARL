{
 "cells": [
  {
   "cell_type": "code",
   "execution_count": null,
   "id": "65277b29",
   "metadata": {},
   "outputs": [],
   "source": [
    "import numpy as np\n",
    "import matplotlib.pyplot as plt\n",
    "import seaborn as sns\n",
    "import matplotlib.backends.backend_pdf as pdf\n",
    "import os\n",
    "import sys\n",
    "import csv\n",
    "import pandas as pd\n",
    "import itertools\n",
    "input_dir = os.path.join('Input','Poland')\n",
    "output_dir = os.path.join('Output','Poland')\n",
    "try:\n",
    "    os.mkdir(output_dir)\n",
    "except:\n",
    "    pass"
   ]
  },
  {
   "cell_type": "code",
   "execution_count": null,
   "id": "4755beb3",
   "metadata": {},
   "outputs": [],
   "source": [
    "def get_data(data):\n",
    "    lines = data.readlines()\n",
    "    metadata={}\n",
    "    voter=[]\n",
    "    projects=[]\n",
    "    for line in lines:\n",
    "        line = line.rstrip()\n",
    "        if(line == 'META'):\n",
    "            state = 'meta'\n",
    "        elif(line == 'PROJECTS'):\n",
    "            state = 'project'\n",
    "        elif(line == 'VOTES'):\n",
    "            state = 'vote'\n",
    "        else:\n",
    "            if(state == 'meta'):\n",
    "                line = line.split(';')\n",
    "                #print (line)\n",
    "                #print(metadata[line[1]])\n",
    "                metadata[line[0]] = line[1]\n",
    "            elif(state == 'project'):\n",
    "                line = line.split(';')\n",
    "                #print(line)\n",
    "                projects.append(line)\n",
    "            elif(state == 'vote'):\n",
    "                line = line.split(';')\n",
    "                #print(line)\n",
    "                voter.append(line)\n",
    "    #projects_19.pop(0)\n",
    "    #print(projects)\n",
    "    metadata.pop('key')\n",
    "    #print(metadata)\n",
    "    return metadata, projects, voter"
   ]
  },
  {
   "cell_type": "code",
   "execution_count": null,
   "id": "38956cd6",
   "metadata": {},
   "outputs": [],
   "source": [
    "def preprocess(file):\n",
    "    data_19 = open(os.path.join(input_dir,file),'r')\n",
    "    metadata_19, projects_19, votes_19 = get_data(data_19)\n",
    "    projects_19 = np.array(projects_19)\n",
    "    dataframe_19 = pd.DataFrame(projects_19)\n",
    "    dataframe_19.to_csv(os.path.join(input_dir,'projects_20.csv'),header=False)\n",
    "    #vote_vector = vote_vector_create(votes_19,len(projects_19)-1,list(projects_19[1:,0]))\n",
    "    #vote_dataframe = pd.DataFrame(vote_vector)\n",
    "    #vote_dataframe.to_csv(os.path.join(input_dir,\"votes_20.csv\"),header=False)"
   ]
  },
  {
   "cell_type": "code",
   "execution_count": null,
   "id": "6ce3abaa",
   "metadata": {},
   "outputs": [],
   "source": [
    "preprocess(\"poland_warszawa_2020_ursynow.pb\")"
   ]
  }
 ],
 "metadata": {
  "kernelspec": {
   "display_name": "sri_py",
   "language": "python",
   "name": "sri_py"
  },
  "language_info": {
   "codemirror_mode": {
    "name": "ipython",
    "version": 3
   },
   "file_extension": ".py",
   "mimetype": "text/x-python",
   "name": "python",
   "nbconvert_exporter": "python",
   "pygments_lexer": "ipython3",
   "version": "3.6.13"
  }
 },
 "nbformat": 4,
 "nbformat_minor": 5
}
